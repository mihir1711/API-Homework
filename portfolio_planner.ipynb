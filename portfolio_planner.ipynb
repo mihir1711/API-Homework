{
 "cells": [
  {
   "cell_type": "markdown",
   "metadata": {},
   "source": [
    "# Retirement Planner\n",
    "\n",
    "---\n",
    "\n",
    "## Environment Setup"
   ]
  },
  {
   "cell_type": "code",
   "execution_count": 1,
   "metadata": {},
   "outputs": [],
   "source": [
    "# Import libraries and dependencies\n",
    "import numpy as np\n",
    "import pandas as pd\n",
    "import os\n",
    "from datetime import datetime, timedelta\n",
    "import matplotlib.pyplot as plt\n",
    "import alpaca_trade_api as tradeapi\n",
    "%matplotlib inline"
   ]
  },
  {
   "cell_type": "code",
   "execution_count": 2,
   "metadata": {},
   "outputs": [],
   "source": [
    "# Set the random seed for resutls reproducibility (for testing purposes only)\n",
    "np.random.seed(42)"
   ]
  },
  {
   "cell_type": "markdown",
   "metadata": {},
   "source": [
    "---\n",
    "\n",
    "## Portfolio Planner\n",
    "\n",
    "In this activity, you will use the Alpaca API to grab historical data for a `60/40` portfolio using `SPY` to represent the stock portion and `AGG` to represent the bonds."
   ]
  },
  {
   "cell_type": "code",
   "execution_count": 3,
   "metadata": {},
   "outputs": [],
   "source": [
    "# Load .env enviroment variables\n",
    "from dotenv import load_dotenv\n",
    "load_dotenv()\n",
    "\n",
    "# Set Alpaca API key and secret\n",
    "alpaca_api_key = os.getenv(\"ALPACA_API_KEY\")\n",
    "alpaca_secret_key = os.getenv(\"ALPACA_SECRET_KEY\")\n",
    "\n",
    "# Create the Alpaca API object\n",
    "api = tradeapi.REST(\n",
    "    alpaca_api_key,\n",
    "    alpaca_secret_key,\n",
    "    api_version=\"v2\")"
   ]
  },
  {
   "cell_type": "markdown",
   "metadata": {},
   "source": [
    "# Data Collection\n",
    "\n",
    "In this step, you will need to use the Alpaca api to fetch closing prices for the `SPY` and `AGG` tickers. Save the results as a pandas DataFrame"
   ]
  },
  {
   "cell_type": "code",
   "execution_count": 4,
   "metadata": {},
   "outputs": [],
   "source": [
    "# Subset your tickers, then pull returns data:\n",
    "# Set the ticker\n",
    "ticker = [\"SPY\", \"AGG\"]\n",
    "\n",
    "# Set timeframe to '1D'\n",
    "timeframe = \"1D\"\n",
    "\n",
    "# Set start and end datetimes of 1 year, between now and 365 days ago.\n",
    "start_date = pd.Timestamp('2019-01-01', tz='America/New_York').isoformat()\n",
    "end_date = pd.Timestamp('2019-12-31', tz='America/New_York').isoformat()\n",
    "\n",
    "# Get 1 year's worth of historical data for SPY and AGG\n",
    "df = api.get_barset(\n",
    "    ticker,\n",
    "    timeframe,\n",
    "    limit=None,\n",
    "    start=start_date,\n",
    "    end=end_date,\n",
    "    after=None,\n",
    "    until=None,\n",
    ").df\n",
    "\n",
    "# Drop unnecessary columns\n",
    "df = df.drop(\n",
    "    columns=['open', 'high', 'low', 'volume'],\n",
    "    level=1\n",
    ")"
   ]
  },
  {
   "cell_type": "code",
   "execution_count": 5,
   "metadata": {},
   "outputs": [
    {
     "data": {
      "text/html": [
       "<div>\n",
       "<style scoped>\n",
       "    .dataframe tbody tr th:only-of-type {\n",
       "        vertical-align: middle;\n",
       "    }\n",
       "\n",
       "    .dataframe tbody tr th {\n",
       "        vertical-align: top;\n",
       "    }\n",
       "\n",
       "    .dataframe thead tr th {\n",
       "        text-align: left;\n",
       "    }\n",
       "</style>\n",
       "<table border=\"1\" class=\"dataframe\">\n",
       "  <thead>\n",
       "    <tr>\n",
       "      <th></th>\n",
       "      <th>AGG</th>\n",
       "      <th>SPY</th>\n",
       "    </tr>\n",
       "    <tr>\n",
       "      <th></th>\n",
       "      <th>close</th>\n",
       "      <th>close</th>\n",
       "    </tr>\n",
       "  </thead>\n",
       "  <tbody>\n",
       "    <tr>\n",
       "      <th>2019-01-02 00:00:00-05:00</th>\n",
       "      <td>106.585</td>\n",
       "      <td>249.89</td>\n",
       "    </tr>\n",
       "    <tr>\n",
       "      <th>2019-01-03 00:00:00-05:00</th>\n",
       "      <td>107.020</td>\n",
       "      <td>244.46</td>\n",
       "    </tr>\n",
       "    <tr>\n",
       "      <th>2019-01-04 00:00:00-05:00</th>\n",
       "      <td>106.695</td>\n",
       "      <td>252.41</td>\n",
       "    </tr>\n",
       "    <tr>\n",
       "      <th>2019-01-07 00:00:00-05:00</th>\n",
       "      <td>106.470</td>\n",
       "      <td>254.40</td>\n",
       "    </tr>\n",
       "    <tr>\n",
       "      <th>2019-01-08 00:00:00-05:00</th>\n",
       "      <td>106.420</td>\n",
       "      <td>256.65</td>\n",
       "    </tr>\n",
       "  </tbody>\n",
       "</table>\n",
       "</div>"
      ],
      "text/plain": [
       "                               AGG     SPY\n",
       "                             close   close\n",
       "2019-01-02 00:00:00-05:00  106.585  249.89\n",
       "2019-01-03 00:00:00-05:00  107.020  244.46\n",
       "2019-01-04 00:00:00-05:00  106.695  252.41\n",
       "2019-01-07 00:00:00-05:00  106.470  254.40\n",
       "2019-01-08 00:00:00-05:00  106.420  256.65"
      ]
     },
     "execution_count": 5,
     "metadata": {},
     "output_type": "execute_result"
    }
   ],
   "source": [
    "# Display sample data\n",
    "df.head()"
   ]
  },
  {
   "cell_type": "markdown",
   "metadata": {},
   "source": [
    "---\n",
    "\n",
    "## Monte Carlo Simulation\n",
    "\n",
    "In this step, you will run Monte Carlo Simulations for your portfolio to model portfolio performance at different retirement ages. \n",
    "\n",
    "Complete the following steps:\n",
    "\n",
    "1. Calculate the daily returns for the SPY and AGG closing prices.\n",
    "\n",
    "2. Calculate volatility for both the SPY and AGG closing prices.\n",
    "\n",
    "3. Find the last day's closing price for both stocks and save those as variables\n",
    "\n",
    "4. Run a Monte Carlo Simulation of at least `100` iterations and generate at least `30` years of closing prices\n",
    "\n",
    "**Hint:** There are `252` trading days per year, so the number of records to generate for each Monte Carlo run will be `252 days * 30 years`."
   ]
  },
  {
   "cell_type": "code",
   "execution_count": 6,
   "metadata": {},
   "outputs": [
    {
     "data": {
      "text/html": [
       "<div>\n",
       "<style scoped>\n",
       "    .dataframe tbody tr th:only-of-type {\n",
       "        vertical-align: middle;\n",
       "    }\n",
       "\n",
       "    .dataframe tbody tr th {\n",
       "        vertical-align: top;\n",
       "    }\n",
       "\n",
       "    .dataframe thead tr th {\n",
       "        text-align: left;\n",
       "    }\n",
       "</style>\n",
       "<table border=\"1\" class=\"dataframe\">\n",
       "  <thead>\n",
       "    <tr>\n",
       "      <th></th>\n",
       "      <th>AGG</th>\n",
       "      <th>SPY</th>\n",
       "    </tr>\n",
       "    <tr>\n",
       "      <th></th>\n",
       "      <th>close</th>\n",
       "      <th>close</th>\n",
       "    </tr>\n",
       "  </thead>\n",
       "  <tbody>\n",
       "    <tr>\n",
       "      <th>2019-01-02 00:00:00-05:00</th>\n",
       "      <td>NaN</td>\n",
       "      <td>NaN</td>\n",
       "    </tr>\n",
       "    <tr>\n",
       "      <th>2019-01-03 00:00:00-05:00</th>\n",
       "      <td>0.004081</td>\n",
       "      <td>-0.021730</td>\n",
       "    </tr>\n",
       "    <tr>\n",
       "      <th>2019-01-04 00:00:00-05:00</th>\n",
       "      <td>-0.003037</td>\n",
       "      <td>0.032521</td>\n",
       "    </tr>\n",
       "    <tr>\n",
       "      <th>2019-01-07 00:00:00-05:00</th>\n",
       "      <td>-0.002109</td>\n",
       "      <td>0.007884</td>\n",
       "    </tr>\n",
       "    <tr>\n",
       "      <th>2019-01-08 00:00:00-05:00</th>\n",
       "      <td>-0.000470</td>\n",
       "      <td>0.008844</td>\n",
       "    </tr>\n",
       "  </tbody>\n",
       "</table>\n",
       "</div>"
      ],
      "text/plain": [
       "                                AGG       SPY\n",
       "                              close     close\n",
       "2019-01-02 00:00:00-05:00       NaN       NaN\n",
       "2019-01-03 00:00:00-05:00  0.004081 -0.021730\n",
       "2019-01-04 00:00:00-05:00 -0.003037  0.032521\n",
       "2019-01-07 00:00:00-05:00 -0.002109  0.007884\n",
       "2019-01-08 00:00:00-05:00 -0.000470  0.008844"
      ]
     },
     "execution_count": 6,
     "metadata": {},
     "output_type": "execute_result"
    }
   ],
   "source": [
    "# Calculate the daily roi for the stocks\n",
    "daily_returns=df.pct_change()\n",
    "# Display sample data\n",
    "daily_returns.head()"
   ]
  },
  {
   "cell_type": "code",
   "execution_count": 7,
   "metadata": {},
   "outputs": [],
   "source": [
    "# Calculate Average Daily Returns\n",
    "avg_daily_return_agg = daily_returns.mean()[\"AGG\"][\"close\"]\n",
    "avg_daily_return_spy = daily_returns.mean()[\"SPY\"][\"close\"]"
   ]
  },
  {
   "cell_type": "code",
   "execution_count": 8,
   "metadata": {},
   "outputs": [
    {
     "data": {
      "text/plain": [
       "0.007820053413439366"
      ]
     },
     "execution_count": 8,
     "metadata": {},
     "output_type": "execute_result"
    }
   ],
   "source": [
    "# Compute daily volatility\n",
    "std_agg=daily_returns.std()[\"AGG\"][\"close\"]\n",
    "std_spy=daily_returns.std()[\"SPY\"][\"close\"]\n",
    "std_spy"
   ]
  },
  {
   "cell_type": "code",
   "execution_count": 9,
   "metadata": {},
   "outputs": [
    {
     "data": {
      "text/plain": [
       "112.37"
      ]
     },
     "execution_count": 9,
     "metadata": {},
     "output_type": "execute_result"
    }
   ],
   "source": [
    "# Save the last day's closing price\n",
    "spy_last_price=df[\"SPY\"][\"close\"][-1]\n",
    "agg_last_price=df[\"AGG\"][\"close\"][-1]\n",
    "agg_last_price"
   ]
  },
  {
   "cell_type": "code",
   "execution_count": 10,
   "metadata": {},
   "outputs": [],
   "source": [
    "# Setup the Monte Carlo Parameters\n",
    "number_simulations = 500\n",
    "number_records = 252*30\n",
    "monte_carlo = pd.DataFrame()"
   ]
  },
  {
   "cell_type": "code",
   "execution_count": 11,
   "metadata": {},
   "outputs": [
    {
     "data": {
      "text/html": [
       "<div>\n",
       "<style scoped>\n",
       "    .dataframe tbody tr th:only-of-type {\n",
       "        vertical-align: middle;\n",
       "    }\n",
       "\n",
       "    .dataframe tbody tr th {\n",
       "        vertical-align: top;\n",
       "    }\n",
       "\n",
       "    .dataframe thead th {\n",
       "        text-align: right;\n",
       "    }\n",
       "</style>\n",
       "<table border=\"1\" class=\"dataframe\">\n",
       "  <thead>\n",
       "    <tr style=\"text-align: right;\">\n",
       "      <th></th>\n",
       "      <th>Simulation 1</th>\n",
       "      <th>Simulation 2</th>\n",
       "      <th>Simulation 3</th>\n",
       "      <th>Simulation 4</th>\n",
       "      <th>Simulation 5</th>\n",
       "      <th>Simulation 6</th>\n",
       "      <th>Simulation 7</th>\n",
       "      <th>Simulation 8</th>\n",
       "      <th>Simulation 9</th>\n",
       "      <th>Simulation 10</th>\n",
       "      <th>...</th>\n",
       "      <th>Simulation 491</th>\n",
       "      <th>Simulation 492</th>\n",
       "      <th>Simulation 493</th>\n",
       "      <th>Simulation 494</th>\n",
       "      <th>Simulation 495</th>\n",
       "      <th>Simulation 496</th>\n",
       "      <th>Simulation 497</th>\n",
       "      <th>Simulation 498</th>\n",
       "      <th>Simulation 499</th>\n",
       "      <th>Simulation 500</th>\n",
       "    </tr>\n",
       "  </thead>\n",
       "  <tbody>\n",
       "    <tr>\n",
       "      <th>0</th>\n",
       "      <td>1.000000</td>\n",
       "      <td>1.000000</td>\n",
       "      <td>1.000000</td>\n",
       "      <td>1.000000</td>\n",
       "      <td>1.000000</td>\n",
       "      <td>1.000000</td>\n",
       "      <td>1.000000</td>\n",
       "      <td>1.000000</td>\n",
       "      <td>1.000000</td>\n",
       "      <td>1.000000</td>\n",
       "      <td>...</td>\n",
       "      <td>1.000000</td>\n",
       "      <td>1.000000</td>\n",
       "      <td>1.000000</td>\n",
       "      <td>1.000000</td>\n",
       "      <td>1.000000</td>\n",
       "      <td>1.000000</td>\n",
       "      <td>1.000000</td>\n",
       "      <td>1.000000</td>\n",
       "      <td>1.000000</td>\n",
       "      <td>1.000000</td>\n",
       "    </tr>\n",
       "    <tr>\n",
       "      <th>1</th>\n",
       "      <td>1.002924</td>\n",
       "      <td>0.995999</td>\n",
       "      <td>0.993589</td>\n",
       "      <td>0.999839</td>\n",
       "      <td>1.005673</td>\n",
       "      <td>1.006943</td>\n",
       "      <td>1.009401</td>\n",
       "      <td>0.996558</td>\n",
       "      <td>1.001958</td>\n",
       "      <td>0.999350</td>\n",
       "      <td>...</td>\n",
       "      <td>1.002269</td>\n",
       "      <td>0.995970</td>\n",
       "      <td>1.007308</td>\n",
       "      <td>1.000163</td>\n",
       "      <td>0.997898</td>\n",
       "      <td>1.003207</td>\n",
       "      <td>0.996441</td>\n",
       "      <td>0.994146</td>\n",
       "      <td>1.003209</td>\n",
       "      <td>0.997553</td>\n",
       "    </tr>\n",
       "    <tr>\n",
       "      <th>2</th>\n",
       "      <td>1.007960</td>\n",
       "      <td>0.999998</td>\n",
       "      <td>0.993068</td>\n",
       "      <td>0.999039</td>\n",
       "      <td>1.009071</td>\n",
       "      <td>0.998193</td>\n",
       "      <td>1.004123</td>\n",
       "      <td>0.986299</td>\n",
       "      <td>1.001346</td>\n",
       "      <td>1.007829</td>\n",
       "      <td>...</td>\n",
       "      <td>1.004518</td>\n",
       "      <td>1.003370</td>\n",
       "      <td>1.010545</td>\n",
       "      <td>1.001969</td>\n",
       "      <td>0.999475</td>\n",
       "      <td>1.000274</td>\n",
       "      <td>0.996136</td>\n",
       "      <td>0.994776</td>\n",
       "      <td>1.003311</td>\n",
       "      <td>1.001444</td>\n",
       "    </tr>\n",
       "    <tr>\n",
       "      <th>3</th>\n",
       "      <td>1.007370</td>\n",
       "      <td>1.000231</td>\n",
       "      <td>0.996724</td>\n",
       "      <td>0.993520</td>\n",
       "      <td>1.008617</td>\n",
       "      <td>1.001408</td>\n",
       "      <td>1.008137</td>\n",
       "      <td>0.980584</td>\n",
       "      <td>1.001321</td>\n",
       "      <td>1.016101</td>\n",
       "      <td>...</td>\n",
       "      <td>1.004743</td>\n",
       "      <td>1.006240</td>\n",
       "      <td>1.015344</td>\n",
       "      <td>1.003629</td>\n",
       "      <td>0.993173</td>\n",
       "      <td>0.999241</td>\n",
       "      <td>1.000000</td>\n",
       "      <td>1.000495</td>\n",
       "      <td>1.006827</td>\n",
       "      <td>1.000482</td>\n",
       "    </tr>\n",
       "    <tr>\n",
       "      <th>4</th>\n",
       "      <td>1.016195</td>\n",
       "      <td>1.003283</td>\n",
       "      <td>0.993397</td>\n",
       "      <td>0.999441</td>\n",
       "      <td>1.010295</td>\n",
       "      <td>0.996675</td>\n",
       "      <td>1.007118</td>\n",
       "      <td>0.978044</td>\n",
       "      <td>1.009298</td>\n",
       "      <td>1.006308</td>\n",
       "      <td>...</td>\n",
       "      <td>1.006802</td>\n",
       "      <td>1.004677</td>\n",
       "      <td>1.014131</td>\n",
       "      <td>1.008910</td>\n",
       "      <td>0.999443</td>\n",
       "      <td>0.996475</td>\n",
       "      <td>0.994644</td>\n",
       "      <td>1.001387</td>\n",
       "      <td>1.011503</td>\n",
       "      <td>1.004131</td>\n",
       "    </tr>\n",
       "  </tbody>\n",
       "</table>\n",
       "<p>5 rows × 500 columns</p>\n",
       "</div>"
      ],
      "text/plain": [
       "   Simulation 1  Simulation 2  Simulation 3  Simulation 4  Simulation 5  \\\n",
       "0      1.000000      1.000000      1.000000      1.000000      1.000000   \n",
       "1      1.002924      0.995999      0.993589      0.999839      1.005673   \n",
       "2      1.007960      0.999998      0.993068      0.999039      1.009071   \n",
       "3      1.007370      1.000231      0.996724      0.993520      1.008617   \n",
       "4      1.016195      1.003283      0.993397      0.999441      1.010295   \n",
       "\n",
       "   Simulation 6  Simulation 7  Simulation 8  Simulation 9  Simulation 10  ...  \\\n",
       "0      1.000000      1.000000      1.000000      1.000000       1.000000  ...   \n",
       "1      1.006943      1.009401      0.996558      1.001958       0.999350  ...   \n",
       "2      0.998193      1.004123      0.986299      1.001346       1.007829  ...   \n",
       "3      1.001408      1.008137      0.980584      1.001321       1.016101  ...   \n",
       "4      0.996675      1.007118      0.978044      1.009298       1.006308  ...   \n",
       "\n",
       "   Simulation 491  Simulation 492  Simulation 493  Simulation 494  \\\n",
       "0        1.000000        1.000000        1.000000        1.000000   \n",
       "1        1.002269        0.995970        1.007308        1.000163   \n",
       "2        1.004518        1.003370        1.010545        1.001969   \n",
       "3        1.004743        1.006240        1.015344        1.003629   \n",
       "4        1.006802        1.004677        1.014131        1.008910   \n",
       "\n",
       "   Simulation 495  Simulation 496  Simulation 497  Simulation 498  \\\n",
       "0        1.000000        1.000000        1.000000        1.000000   \n",
       "1        0.997898        1.003207        0.996441        0.994146   \n",
       "2        0.999475        1.000274        0.996136        0.994776   \n",
       "3        0.993173        0.999241        1.000000        1.000495   \n",
       "4        0.999443        0.996475        0.994644        1.001387   \n",
       "\n",
       "   Simulation 499  Simulation 500  \n",
       "0        1.000000        1.000000  \n",
       "1        1.003209        0.997553  \n",
       "2        1.003311        1.001444  \n",
       "3        1.006827        1.000482  \n",
       "4        1.011503        1.004131  \n",
       "\n",
       "[5 rows x 500 columns]"
      ]
     },
     "execution_count": 11,
     "metadata": {},
     "output_type": "execute_result"
    }
   ],
   "source": [
    "# Run the Monte Carlo Simulation\n",
    "# Initialize empty DataFrame to hold simulated prices for each simulation\n",
    "simulated_price_df = pd.DataFrame()\n",
    "portfolio_cumulative_returns = pd.DataFrame()\n",
    "\n",
    "# Run the simulation of projecting stock prices for the next trading year, `100` times\n",
    "for n in range(number_simulations):\n",
    "\n",
    "    # Initialize the simulated prices list with the last closing price of SPY and AGG\n",
    "    simulated_spy_prices = [spy_last_price]\n",
    "    simulated_agg_prices = [agg_last_price]\n",
    "    \n",
    "    # Simulate the returns for 252 days\n",
    "    for i in range(number_records):\n",
    "        \n",
    "        # Calculate the simulated price using the last price within the list\n",
    "        simulated_spy = simulated_spy_prices[-1] * (1 + np.random.normal(avg_daily_return_spy, std_spy))\n",
    "        simulated_agg = simulated_agg_prices[-1] * (1 + np.random.normal(avg_daily_return_agg, std_agg))\n",
    "        \n",
    "        # Append the simulated price to the list\n",
    "        simulated_spy_prices.append(simulated_spy)\n",
    "        simulated_agg_prices.append(simulated_agg)\n",
    "    \n",
    "    # Append a simulated prices of each simulation to DataFrame\n",
    "    simulated_price_df[\"SPY prices\"] = pd.Series(simulated_spy_prices)\n",
    "    simulated_price_df[\"AGG prices\"] = pd.Series(simulated_agg_prices)\n",
    "    \n",
    "    # Calculate the daily returns of simulated prices\n",
    "    simulated_daily_returns = simulated_price_df.pct_change()\n",
    "    \n",
    "    # Set the portfolio weights (60% SPY; 40% AGG)\n",
    "    weights = [0.60, 0.40]\n",
    "\n",
    "    # Use the `dot` function with the weights to multiply weights with each column's simulated daily returns\n",
    "    portfolio_daily_returns = simulated_daily_returns.dot(weights)\n",
    "    \n",
    "    # Calculate the normalized, cumulative return series\n",
    "    portfolio_cumulative_returns[f\"Simulation {n+1}\"] = (1 + portfolio_daily_returns.fillna(0)).cumprod()\n",
    "\n",
    "# Print records from the DataFrame\n",
    "portfolio_cumulative_returns.head()"
   ]
  },
  {
   "cell_type": "code",
   "execution_count": 12,
   "metadata": {},
   "outputs": [
    {
     "data": {
      "text/html": [
       "<div>\n",
       "<style scoped>\n",
       "    .dataframe tbody tr th:only-of-type {\n",
       "        vertical-align: middle;\n",
       "    }\n",
       "\n",
       "    .dataframe tbody tr th {\n",
       "        vertical-align: top;\n",
       "    }\n",
       "\n",
       "    .dataframe thead th {\n",
       "        text-align: right;\n",
       "    }\n",
       "</style>\n",
       "<table border=\"1\" class=\"dataframe\">\n",
       "  <thead>\n",
       "    <tr style=\"text-align: right;\">\n",
       "      <th></th>\n",
       "      <th>Simulation 1</th>\n",
       "      <th>Simulation 2</th>\n",
       "      <th>Simulation 3</th>\n",
       "      <th>Simulation 4</th>\n",
       "      <th>Simulation 5</th>\n",
       "      <th>Simulation 6</th>\n",
       "      <th>Simulation 7</th>\n",
       "      <th>Simulation 8</th>\n",
       "      <th>Simulation 9</th>\n",
       "      <th>Simulation 10</th>\n",
       "      <th>...</th>\n",
       "      <th>Simulation 491</th>\n",
       "      <th>Simulation 492</th>\n",
       "      <th>Simulation 493</th>\n",
       "      <th>Simulation 494</th>\n",
       "      <th>Simulation 495</th>\n",
       "      <th>Simulation 496</th>\n",
       "      <th>Simulation 497</th>\n",
       "      <th>Simulation 498</th>\n",
       "      <th>Simulation 499</th>\n",
       "      <th>Simulation 500</th>\n",
       "    </tr>\n",
       "  </thead>\n",
       "  <tbody>\n",
       "    <tr>\n",
       "      <th>7556</th>\n",
       "      <td>226.640601</td>\n",
       "      <td>183.013645</td>\n",
       "      <td>248.439395</td>\n",
       "      <td>266.549906</td>\n",
       "      <td>243.256943</td>\n",
       "      <td>193.970623</td>\n",
       "      <td>232.356573</td>\n",
       "      <td>365.582582</td>\n",
       "      <td>250.332474</td>\n",
       "      <td>270.407568</td>\n",
       "      <td>...</td>\n",
       "      <td>76.552297</td>\n",
       "      <td>264.237617</td>\n",
       "      <td>155.411639</td>\n",
       "      <td>244.125466</td>\n",
       "      <td>298.916293</td>\n",
       "      <td>336.863337</td>\n",
       "      <td>96.790248</td>\n",
       "      <td>217.572828</td>\n",
       "      <td>391.889121</td>\n",
       "      <td>101.934826</td>\n",
       "    </tr>\n",
       "    <tr>\n",
       "      <th>7557</th>\n",
       "      <td>226.358501</td>\n",
       "      <td>183.671480</td>\n",
       "      <td>249.086176</td>\n",
       "      <td>266.398180</td>\n",
       "      <td>241.567502</td>\n",
       "      <td>193.870304</td>\n",
       "      <td>231.197939</td>\n",
       "      <td>367.786650</td>\n",
       "      <td>249.053947</td>\n",
       "      <td>270.084122</td>\n",
       "      <td>...</td>\n",
       "      <td>75.939959</td>\n",
       "      <td>264.141594</td>\n",
       "      <td>155.158220</td>\n",
       "      <td>244.966009</td>\n",
       "      <td>298.846483</td>\n",
       "      <td>338.975713</td>\n",
       "      <td>97.712656</td>\n",
       "      <td>217.670540</td>\n",
       "      <td>395.634852</td>\n",
       "      <td>101.375060</td>\n",
       "    </tr>\n",
       "    <tr>\n",
       "      <th>7558</th>\n",
       "      <td>225.409380</td>\n",
       "      <td>183.751517</td>\n",
       "      <td>251.311869</td>\n",
       "      <td>266.615601</td>\n",
       "      <td>242.283891</td>\n",
       "      <td>194.152841</td>\n",
       "      <td>231.776757</td>\n",
       "      <td>368.377758</td>\n",
       "      <td>250.766427</td>\n",
       "      <td>269.200277</td>\n",
       "      <td>...</td>\n",
       "      <td>75.895997</td>\n",
       "      <td>265.537201</td>\n",
       "      <td>155.273325</td>\n",
       "      <td>245.868703</td>\n",
       "      <td>300.599696</td>\n",
       "      <td>337.955915</td>\n",
       "      <td>97.650009</td>\n",
       "      <td>216.306908</td>\n",
       "      <td>398.194448</td>\n",
       "      <td>100.915272</td>\n",
       "    </tr>\n",
       "    <tr>\n",
       "      <th>7559</th>\n",
       "      <td>225.106471</td>\n",
       "      <td>184.973766</td>\n",
       "      <td>252.193763</td>\n",
       "      <td>266.934848</td>\n",
       "      <td>242.216389</td>\n",
       "      <td>195.108231</td>\n",
       "      <td>231.795720</td>\n",
       "      <td>367.541031</td>\n",
       "      <td>251.152904</td>\n",
       "      <td>268.273273</td>\n",
       "      <td>...</td>\n",
       "      <td>76.370245</td>\n",
       "      <td>266.776351</td>\n",
       "      <td>154.040902</td>\n",
       "      <td>244.222613</td>\n",
       "      <td>301.180186</td>\n",
       "      <td>336.944712</td>\n",
       "      <td>98.674359</td>\n",
       "      <td>216.121532</td>\n",
       "      <td>399.598258</td>\n",
       "      <td>100.925960</td>\n",
       "    </tr>\n",
       "    <tr>\n",
       "      <th>7560</th>\n",
       "      <td>224.965889</td>\n",
       "      <td>185.695782</td>\n",
       "      <td>254.090683</td>\n",
       "      <td>267.175574</td>\n",
       "      <td>242.897877</td>\n",
       "      <td>195.557609</td>\n",
       "      <td>231.588919</td>\n",
       "      <td>365.930373</td>\n",
       "      <td>250.924391</td>\n",
       "      <td>268.263439</td>\n",
       "      <td>...</td>\n",
       "      <td>76.470507</td>\n",
       "      <td>268.161671</td>\n",
       "      <td>153.392527</td>\n",
       "      <td>246.305943</td>\n",
       "      <td>301.522993</td>\n",
       "      <td>337.249741</td>\n",
       "      <td>98.305461</td>\n",
       "      <td>214.568967</td>\n",
       "      <td>396.836102</td>\n",
       "      <td>101.121347</td>\n",
       "    </tr>\n",
       "  </tbody>\n",
       "</table>\n",
       "<p>5 rows × 500 columns</p>\n",
       "</div>"
      ],
      "text/plain": [
       "      Simulation 1  Simulation 2  Simulation 3  Simulation 4  Simulation 5  \\\n",
       "7556    226.640601    183.013645    248.439395    266.549906    243.256943   \n",
       "7557    226.358501    183.671480    249.086176    266.398180    241.567502   \n",
       "7558    225.409380    183.751517    251.311869    266.615601    242.283891   \n",
       "7559    225.106471    184.973766    252.193763    266.934848    242.216389   \n",
       "7560    224.965889    185.695782    254.090683    267.175574    242.897877   \n",
       "\n",
       "      Simulation 6  Simulation 7  Simulation 8  Simulation 9  Simulation 10  \\\n",
       "7556    193.970623    232.356573    365.582582    250.332474     270.407568   \n",
       "7557    193.870304    231.197939    367.786650    249.053947     270.084122   \n",
       "7558    194.152841    231.776757    368.377758    250.766427     269.200277   \n",
       "7559    195.108231    231.795720    367.541031    251.152904     268.273273   \n",
       "7560    195.557609    231.588919    365.930373    250.924391     268.263439   \n",
       "\n",
       "      ...  Simulation 491  Simulation 492  Simulation 493  Simulation 494  \\\n",
       "7556  ...       76.552297      264.237617      155.411639      244.125466   \n",
       "7557  ...       75.939959      264.141594      155.158220      244.966009   \n",
       "7558  ...       75.895997      265.537201      155.273325      245.868703   \n",
       "7559  ...       76.370245      266.776351      154.040902      244.222613   \n",
       "7560  ...       76.470507      268.161671      153.392527      246.305943   \n",
       "\n",
       "      Simulation 495  Simulation 496  Simulation 497  Simulation 498  \\\n",
       "7556      298.916293      336.863337       96.790248      217.572828   \n",
       "7557      298.846483      338.975713       97.712656      217.670540   \n",
       "7558      300.599696      337.955915       97.650009      216.306908   \n",
       "7559      301.180186      336.944712       98.674359      216.121532   \n",
       "7560      301.522993      337.249741       98.305461      214.568967   \n",
       "\n",
       "      Simulation 499  Simulation 500  \n",
       "7556      391.889121      101.934826  \n",
       "7557      395.634852      101.375060  \n",
       "7558      398.194448      100.915272  \n",
       "7559      399.598258      100.925960  \n",
       "7560      396.836102      101.121347  \n",
       "\n",
       "[5 rows x 500 columns]"
      ]
     },
     "execution_count": 12,
     "metadata": {},
     "output_type": "execute_result"
    }
   ],
   "source": [
    "# Check that the simulation ran successfully\n",
    "portfolio_cumulative_returns.tail()"
   ]
  },
  {
   "cell_type": "code",
   "execution_count": 13,
   "metadata": {},
   "outputs": [
    {
     "data": {
      "text/plain": [
       "<matplotlib.axes._subplots.AxesSubplot at 0x248b2bed588>"
      ]
     },
     "execution_count": 13,
     "metadata": {},
     "output_type": "execute_result"
    },
    {
     "data": {
      "image/png": "[encoded data removed]",
      "text/plain": [
       "<Figure size 432x288 with 1 Axes>"
      ]
     },
     "metadata": {
      "needs_background": "light"
     },
     "output_type": "display_data"
    }
   ],
   "source": [
    "# Visualize the Simulation\n",
    "plot_title = f\"{n+1} Simulations of Cumulative Portfolio Return Trajectories Over the Next 7560 Trading Days\"\n",
    "portfolio_cumulative_returns.plot(legend=None, title=plot_title)"
   ]
  },
  {
   "cell_type": "code",
   "execution_count": 15,
   "metadata": {},
   "outputs": [
    {
     "data": {
      "text/plain": [
       "Simulation 1    224.965889\n",
       "Simulation 2    185.695782\n",
       "Simulation 3    254.090683\n",
       "Simulation 4    267.175574\n",
       "Simulation 5    242.897877\n",
       "Name: 7560, dtype: float64"
      ]
     },
     "execution_count": 15,
     "metadata": {},
     "output_type": "execute_result"
    }
   ],
   "source": [
    "# Select the last row for the cumulative returns (cumulative returns at 30 years)\n",
    "ending_cumulative_returns = portfolio_cumulative_returns.iloc[-1, :]\n",
    "ending_cumulative_returns.head()"
   ]
  },
  {
   "cell_type": "code",
   "execution_count": 16,
   "metadata": {},
   "outputs": [
    {
     "data": {
      "text/plain": [
       "0.05     94.350911\n",
       "0.95    374.693262\n",
       "Name: 7560, dtype: float64"
      ]
     },
     "execution_count": 16,
     "metadata": {},
     "output_type": "execute_result"
    }
   ],
   "source": [
    "# Display the 90% confidence interval for the ending returns\n",
    "confidence_interval = ending_cumulative_returns.quantile(q=[0.05, 0.95])\n",
    "confidence_interval"
   ]
  },
  {
   "cell_type": "code",
   "execution_count": 25,
   "metadata": {},
   "outputs": [
    {
     "data": {
      "text/plain": [
       "<matplotlib.lines.Line2D at 0x248b423fdc8>"
      ]
     },
     "execution_count": 25,
     "metadata": {},
     "output_type": "execute_result"
    },
    {
     "data": {
      "image/png": "[encoded data removed]",
      "text/plain": [
       "<Figure size 432x288 with 1 Axes>"
      ]
     },
     "metadata": {
      "needs_background": "light"
     },
     "output_type": "display_data"
    }
   ],
   "source": [
    "# Visualize the distribution of the ending returns\n",
    "plt.figure()\n",
    "ending_cumulative_returns.plot(kind=\"hist\", bins=50)\n",
    "plt.axvline(confidence_interval.iloc[0], color=\"r\")\n",
    "plt.axvline(confidence_interval.iloc[1], color=\"r\")"
   ]
  },
  {
   "cell_type": "markdown",
   "metadata": {},
   "source": [
    "---"
   ]
  },
  {
   "cell_type": "markdown",
   "metadata": {},
   "source": [
    "## Retirement Analysis\n",
    "\n",
    "In this section, you will use the monte carlo model to answer the following retirement planning questions:\n",
    "\n",
    "1. What are the expected cumulative returns at `30` years for the `10th`, `50th`, and `90th` percentiles?\n",
    "\n",
    "2. Given an initial investment of `$20,000`, what is the expected return in dollars at the `10th`, `50th`, and `90th` percentiles?\n",
    "\n",
    "3. Given the current projected annual income from the Plaid analysis, will a `4%` withdrawal rate meet or exceed that value at the `10th` percentile? Note: This is basically determining if retirement income is equivalent to current income.\n",
    "\n",
    "4. How would a `50%` increase in the initial investment amount affect the `4%` retirement withdrawal? In other words, what happens if the initial investment had been bigger?"
   ]
  },
  {
   "cell_type": "markdown",
   "metadata": {},
   "source": [
    "### What are the expected cumulative returns at 30 years for the 10th, 50th, and 90th percentiles?"
   ]
  },
  {
   "cell_type": "code",
   "execution_count": 70,
   "metadata": {},
   "outputs": [
    {
     "name": "stdout",
     "output_type": "stream",
     "text": [
      "117.38\n",
      "189.84\n",
      "314.34\n"
     ]
    }
   ],
   "source": [
    "# Compute cumulative returns\n",
    "p10 = np.percentile(ending_cumulative_returns, 10)\n",
    "p50 = np.percentile(ending_cumulative_returns, 50)\n",
    "p90 = np.percentile(ending_cumulative_returns, 90)\n",
    "print(round(p10,2))\n",
    "print(round(p50,2))\n",
    "print(round(p90,2))"
   ]
  },
  {
   "cell_type": "markdown",
   "metadata": {},
   "source": [
    "### Given an initial investment of `$20,000`, what is the expected portfolio return in dollars at the 10th, 50th, and 90th percentiles?"
   ]
  },
  {
   "cell_type": "code",
   "execution_count": 68,
   "metadata": {},
   "outputs": [
    {
     "name": "stdout",
     "output_type": "stream",
     "text": [
      "$2367634.09\n",
      "$3816860.06\n",
      "$6306725.06\n"
     ]
    }
   ],
   "source": [
    "# Set initial investment\n",
    "initial_investment = 20000\n",
    "# Compute expected portfolio return\n",
    "portfolio_10 = initial_investment + (initial_investment * p10)\n",
    "\n",
    "portfolio_50 = initial_investment + (initial_investment * p50)\n",
    "\n",
    "portfolio_90 = initial_investment + (initial_investment * p90)\n",
    "\n",
    "print(f\"${round(portfolio_10,2)}\")\n",
    "print(f\"${round(portfolio_50,2)}\")\n",
    "print(f\"${round(portfolio_90,2)}\")"
   ]
  },
  {
   "cell_type": "markdown",
   "metadata": {},
   "source": [
    "### Given the current projected annual income from the Plaid analysis, will a 4% withdraw rate from the retirement portfolio meet or exceed that value at the 10th percentile?\n",
    "\n",
    "Note: This is effectively saying that 90% of the expected returns will be greater than the return at the 10th percentile, so this can help measure the uncertainty about having enough funds at retirement"
   ]
  },
  {
   "cell_type": "code",
   "execution_count": null,
   "metadata": {},
   "outputs": [],
   "source": [
    "# Set Plaid's projected income\n",
    "\n",
    "# Calculate the 4% withdrawal for the ending return as retirement income\n",
    "\n",
    "# Determine if the retirement income meets or exceeds the current projected income\n"
   ]
  },
  {
   "cell_type": "markdown",
   "metadata": {},
   "source": [
    "### How would a 50% increase in the initial investment amount affect the 4% retirement withdrawal?"
   ]
  },
  {
   "cell_type": "code",
   "execution_count": null,
   "metadata": {},
   "outputs": [],
   "source": [
    "# Re-calculate the retirement income with a 50% increase in the initial investment amount\n"
   ]
  },
  {
   "cell_type": "markdown",
   "metadata": {},
   "source": [
    "### Optional Challenge\n",
    "\n",
    "Use the Monte Carlo data and calculate the cumulative returns at the `5%`, `50%`, and `95%` quartiles and plot this data as a line chart to see how the cumulative returns change over the life of the investment.\n",
    "\n",
    "In this section, you need to calculate and plot the cumulative returns for the median and `90%` confidence intervals. This plot shows the expected cumulative returns for any given day between the first day and the last day of investment. "
   ]
  },
  {
   "cell_type": "code",
   "execution_count": null,
   "metadata": {},
   "outputs": [],
   "source": [
    "# Compute projected returns\n",
    "\n",
    "# Display sample data\n"
   ]
  },
  {
   "cell_type": "code",
   "execution_count": null,
   "metadata": {},
   "outputs": [],
   "source": [
    "# Plot the cumulative returns over time\n"
   ]
  },
  {
   "cell_type": "code",
   "execution_count": null,
   "metadata": {},
   "outputs": [],
   "source": [
    "# Compute portfolio performance over time\n",
    "\n",
    "# Plot projected performance over time\n"
   ]
  }
 ],
 "metadata": {
  "kernelspec": {
   "display_name": "Python 3",
   "language": "python",
   "name": "python3"
  },
  "language_info": {
   "codemirror_mode": {
    "name": "ipython",
    "version": 3
   },
   "file_extension": ".py",
   "mimetype": "text/x-python",
   "name": "python",
   "nbconvert_exporter": "python",
   "pygments_lexer": "ipython3",
   "version": "3.7.7"
  }
 },
 "nbformat": 4,
 "nbformat_minor": 4
}
